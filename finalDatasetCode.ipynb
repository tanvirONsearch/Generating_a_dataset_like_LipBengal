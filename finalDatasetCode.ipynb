{
 "cells": [
  {
   "cell_type": "code",
   "execution_count": null,
   "metadata": {},
   "outputs": [],
   "source": [
    "import pandas as pd\n",
    "import os\n",
    "import cv2\n",
    "import matplotlib.pyplot as plt\n",
    "import shutil\n",
    "\n"
   ]
  },
  {
   "cell_type": "markdown",
   "metadata": {},
   "source": [
    "DATASET FOLDER MAKING FUNCTIONS"
   ]
  },
  {
   "cell_type": "code",
   "execution_count": null,
   "metadata": {},
   "outputs": [],
   "source": [
    "def load_words(pth : str) -> list[str]:\n",
    "    words=[]\n",
    "    with open(pth,'r',encoding='utf-8') as words_text:\n",
    "        for line in words_text:\n",
    "           indexed_words=line.strip().split('. ',1) #indexed_words is raw data with number\n",
    "           word=indexed_words[1]          #separating number and words\n",
    "           words.append(word)\n",
    "    return words # returns a useable words list from text file"
   ]
  },
  {
   "cell_type": "code",
   "execution_count": null,
   "metadata": {},
   "outputs": [],
   "source": [
    "def make_folders(location:str,prt_list,chld_list):\n",
    "    for folder in prt_list:\n",
    "        try:\n",
    "            if not os.path.exists(os.path.join(location,str(folder))):\n",
    "                os.mkdir(os.path.join(location,str(folder)))\n",
    "            else:\n",
    "                print(f\"parent foldar already exist{os.path.join(location,str(folder))}\")\n",
    "\n",
    "\n",
    "            for ch_folder in chld_list:\n",
    "                    \n",
    "                try:\n",
    "                    if not os.path.exists(os.path.join(location,str(folder),str(ch_folder))):\n",
    "                        os.mkdir(os.path.join(location,str(folder),str(ch_folder)))\n",
    "                    else:\n",
    "                        print(f\"child foldar already exist{os.path.join(location,str(folder),str(ch_folder))}\")        \n",
    "                except:\n",
    "                    print(f\"invalid syntax in child{os.path.join(location,str(folder),str(ch_folder))}\")         \n",
    "\n",
    "        except:\n",
    "            print(f\"invalid syntax in parent{os.path.join(location,str(folder))}\")\n",
    "        \n",
    "            \n"
   ]
  },
  {
   "cell_type": "markdown",
   "metadata": {},
   "source": [
    "                                                    #for making dataset folders\n",
    "                                                     commands and variables :  \n",
    "                                                                 total funtion  = 2\n",
    "                                                                 variable required= 3"
   ]
  },
  {
   "cell_type": "code",
   "execution_count": null,
   "metadata": {},
   "outputs": [],
   "source": [
    "total_speaker=200\n",
    "word_text_path=\"uniquelist.txt\" # path for file that contains words list\n",
    "datast_path='.\\Dataset' #path where we want to save the data set\n",
    "\n",
    "parent_folders=[f\"s{i}\" for i in range(1,total_speaker+1)] #generating parent folder ie. speaker folder s1,s2,s3,s4\n",
    "\n",
    "#make_folders(datast_path,parent_folders,load_words('uniquelist.txt'))\n"
   ]
  },
  {
   "cell_type": "markdown",
   "metadata": {},
   "source": [
    "XL     FINDING,    READING (FINDING USABLE VIDS)     FUNCTIONS"
   ]
  },
  {
   "cell_type": "code",
   "execution_count": null,
   "metadata": {},
   "outputs": [],
   "source": [
    "# grabs path of files in base location #base means folders where vdos and xls are stored\n",
    "def parent():\n",
    "    parent=os.listdir(base_loc)\n",
    "    parent=[os.path.join(base_loc,file) for file in parent]\n",
    "    return parent"
   ]
  },
  {
   "cell_type": "code",
   "execution_count": null,
   "metadata": {},
   "outputs": [],
   "source": [
    "#grabbing xl from the location\n",
    "def find_xl(pth):\n",
    "    all_files=os.listdir(pth)\n",
    "    xl = [file for file in all_files if file.endswith('.xlsx')]\n",
    "    xl_loc=os.path.join(pth,xl[0])\n",
    "    try:\n",
    "        #print(xl)\n",
    "        if len(xl)==1:\n",
    "            return xl_loc\n",
    "        else:\n",
    "            print(\"Too many xl\")\n",
    "            xl=[]\n",
    "    except:\n",
    "        print('no xl error')"
   ]
  },
  {
   "cell_type": "code",
   "execution_count": null,
   "metadata": {},
   "outputs": [],
   "source": [
    "def read_xl_vids(poth:str) -> list[str]:  #returns annotated vdo list from xl\n",
    "    df=pd.read_excel(poth)\n",
    "    col=[i for i in df.columns]\n",
    "    col=col[2:]\n",
    "    annotated_vids=[i for i in col if (df[i] == \"0::.,0::.\" ).sum()<50]\n",
    "    try:\n",
    "        return annotated_vids\n",
    "    except:\n",
    "        print(\"no particular annotation\")"
   ]
  },
  {
   "cell_type": "markdown",
   "metadata": {},
   "source": [
    "COMMAND FOR FINDING USEABLE VIDEO FROM BASE DIRECTORY OF FOLDERS"
   ]
  },
  {
   "cell_type": "code",
   "execution_count": null,
   "metadata": {},
   "outputs": [],
   "source": [
    "base_loc='.\\demo'\n",
    "parent()[0]"
   ]
  },
  {
   "cell_type": "code",
   "execution_count": null,
   "metadata": {},
   "outputs": [],
   "source": [
    "find_xl(parent()[0])"
   ]
  },
  {
   "cell_type": "code",
   "execution_count": null,
   "metadata": {},
   "outputs": [],
   "source": [
    "base_loc='.\\demo' # location (parent folder) of vdos and xls\n",
    "\n",
    "read_xl_vids(find_xl(parent()[1]))"
   ]
  },
  {
   "cell_type": "markdown",
   "metadata": {},
   "source": [
    "VIDEO TimeString to Miliseconds,CHOPPING FUNCTIONS\n"
   ]
  },
  {
   "cell_type": "code",
   "execution_count": null,
   "metadata": {},
   "outputs": [],
   "source": [
    "def tstr2ms(time_string):\n",
    "    # Split the time string into hours, minutes, seconds, and milliseconds\n",
    "    time_parts = time_string.split(':')\n",
    "\n",
    "    # Convert hours, minutes, seconds, and milliseconds to integers (use 0 if missing)\n",
    "    hours = int(time_parts[0]) if len(time_parts) > 0 and time_parts[1]!=\"\" else 0\n",
    "    minutes = int(time_parts[1]) if len(time_parts) > 1 and time_parts[1]!=\"\" else 0\n",
    "    seconds_parts = time_parts[2].split('.')\n",
    "    seconds = int(seconds_parts[0]) if len(seconds_parts)> 0 and seconds_parts[0]!=\"\"  else 0\n",
    "    if len(str(seconds_parts[1]))<2:\n",
    "           milliseconds = (int(seconds_parts[1])*100)  if len(seconds_parts) > 1 and seconds_parts[1]!=\"\" else 0\n",
    "           #print(\"in the one digit range\")\n",
    "    elif len(str(seconds_parts[1]))<3:\n",
    "         milliseconds = (int(seconds_parts[1])*10)  if len(seconds_parts) > 1 and seconds_parts[1]!=\"\" else 0\n",
    "         #print(\"in the two digit range\")\n",
    "    else:\n",
    "        milliseconds = int(seconds_parts[1]) if len(seconds_parts) > 1 and seconds_parts[1]!=\"\" else 0\n",
    "        #print(\"in the three digit range\")\n",
    "\n",
    "\n",
    "\n",
    "    # Calculate total milliseconds\n",
    "    total_milliseconds = (\n",
    "        hours * 60 * 60 * 1000 +\n",
    "        minutes * 60 * 1000 +\n",
    "        seconds * 1000 +\n",
    "        milliseconds\n",
    "    )\n",
    "\n",
    "    return total_milliseconds\n",
    "\n",
    "\n"
   ]
  },
  {
   "cell_type": "code",
   "execution_count": null,
   "metadata": {},
   "outputs": [],
   "source": [
    "'''\n",
    "import time\n",
    "import glob\n",
    "buff=[]\n",
    "\n",
    "def save_frames(video_path, output_folder, start_time, end_time):\n",
    "    # Open the video file\n",
    "    cap = cv2.VideoCapture(video_path)\n",
    "\n",
    "    # Check if the video opened successfully\n",
    "    if not cap.isOpened():\n",
    "        print(\"Error: Could not open video.\")\n",
    "        return\n",
    "\n",
    "    # Get frames per second (fps)\n",
    "    fps = cap.get(cv2.CAP_PROP_FPS)\n",
    "    # Calculate start and end frame indices\n",
    "    start_frame = int(start_time/1000 * fps)\n",
    "    end_frame = int(end_time/1000 * fps)\n",
    "\n",
    "    # Create output folder if it doesn't exist\n",
    "    os.makedirs(output_folder, exist_ok=True)\n",
    "\n",
    "    # Set the video capture position to the start frame\n",
    "    cap.set(cv2.CAP_PROP_POS_FRAMES, start_frame)\n",
    "\n",
    "    # Read and save frames within the specified range\n",
    "    frame_count = start_frame\n",
    "    i=1\n",
    "    _ = [os.remove(file) for file in glob.glob(os.path.join(r\"D:\\Dataset\\buffer\", '*.png'))]\n",
    "    while frame_count <= end_frame:\n",
    "        ret, frame = cap.read()\n",
    "        #get the width and height\n",
    "        width = int(cap.get(cv2.CAP_PROP_FRAME_WIDTH))\n",
    "        height = int(cap.get(cv2.CAP_PROP_FRAME_HEIGHT))\n",
    "        if not ret:\n",
    "            print(f\"Error: Could not read frame {frame_count}.\")\n",
    "            break\n",
    "\n",
    "        # Save the frame as an image in the output folder\n",
    "        frame_filename = os.path.join(r\"D:\\Dataset\\buffer\", f\"{i:02d}.png\")\n",
    "        if width!=1280 and height!=720:\n",
    "            frame=cv2.resize(frame, (1280, 720), interpolation=cv2.INTER_AREA)\n",
    "        try:\n",
    "            \n",
    "          if not os.listdir(r\"D:\\Dataset\\buffer\"):\n",
    "            cv2.imwrite(frame_filename,frame,[cv2.IMWRITE_PNG_COMPRESSION, 5])\n",
    "            time.sleep(.01)\n",
    "            print(\"image has been written in buffer folder\")\n",
    "            \n",
    "            try:\n",
    "             if not os.path.exists(os.path.join(output_folder,f\"{i:02d}.png\")):\n",
    "                shutil.move(frame_filename,output_folder)\n",
    "                print(f\"succesfully moved to{output_folder}\")\n",
    "             else:\n",
    "                 print(f'file already exists in {output_folder}')\n",
    "                 _ = [os.remove(file) for file in glob.glob(os.path.join(r\"D:\\Dataset\\buffer\", '*.png'))]\n",
    "                 print('Buffer cleared')\n",
    "            except:\n",
    "             print(\"couldn't move to folder\")\n",
    "             _ = [os.remove(file) for file in glob.glob(os.path.join(r\"D:\\Dataset\\buffer\", '*.png'))]\n",
    "             print('Buffer cleared')\n",
    "            \n",
    "          else:\n",
    "             print(\"file already available in buffer\")\n",
    "             buff.append(output_folder)\n",
    "             _ = [os.remove(file) for file in glob.glob(os.path.join(r\"D:\\Dataset\\buffer\", '*.png'))]\n",
    "             print('Buffer cleared')\n",
    "        except:\n",
    "            print(\"openCV error :couldn't save image in buffer\")\n",
    "            buff.append(output_folder)\n",
    "       \n",
    "        width = int(cap.get(cv2.CAP_PROP_FRAME_WIDTH))\n",
    "        height = int(cap.get(cv2.CAP_PROP_FRAME_HEIGHT))\n",
    "        print(f\"width={width},height={height}\") \n",
    "        \n",
    "\n",
    "        frame_count += 1\n",
    "        i+=1\n",
    "    \n",
    "    # Release the video capture object\n",
    "    cap.release()\n",
    "    return print(buff)\n",
    "    \n",
    "    '''"
   ]
  },
  {
   "cell_type": "code",
   "execution_count": null,
   "metadata": {},
   "outputs": [],
   "source": [
    "import cv2\n",
    "import os\n",
    "import shutil\n",
    "import glob\n",
    "import concurrent.futures\n",
    "\n",
    "def save_frame(frame_info):\n",
    "    frame_count, frame, frame_filename, output_folder = frame_info\n",
    "    cv2.imwrite(frame_filename, frame, [cv2.IMWRITE_PNG_COMPRESSION, 5])\n",
    "    shutil.move(frame_filename, output_folder)\n",
    "    \n",
    "    print(f\"Frame {frame_count} saved to {output_folder}\")\n",
    "    \n",
    "\n",
    "def save_frames(video_path, output_folder, start_time, end_time):\n",
    "    # Open the video file\n",
    "    cap = cv2.VideoCapture(video_path)\n",
    "\n",
    "    # Check if the video opened successfully\n",
    "    if not cap.isOpened():\n",
    "        print(\"Error: Could not open video.\")\n",
    "        return\n",
    "\n",
    "    # Get frames per second (fps)\n",
    "    fps = cap.get(cv2.CAP_PROP_FPS)\n",
    "    # Calculate start and end frame indices\n",
    "    start_frame = int(start_time/1000 * fps)\n",
    "    end_frame = int(end_time/1000 * fps)\n",
    "\n",
    "    # Create output folder if it doesn't exist\n",
    "    os.makedirs(output_folder, exist_ok=True)\n",
    "\n",
    "    # Set the video capture position to the start frame\n",
    "    cap.set(cv2.CAP_PROP_POS_FRAMES, start_frame)\n",
    "\n",
    "    # Read and save frames within the specified range\n",
    "    frame_count = start_frame\n",
    "    i = 1\n",
    "    _ = [os.remove(file) for file in glob.glob(os.path.join(r\"D:\\Dataset\\buffer\", '*.png'))]\n",
    "\n",
    "    frames_info = []\n",
    "\n",
    "    while frame_count <= end_frame:\n",
    "        ret, frame = cap.read()\n",
    "        #get the width and height\n",
    "        width = int(cap.get(cv2.CAP_PROP_FRAME_WIDTH))\n",
    "        height = int(cap.get(cv2.CAP_PROP_FRAME_HEIGHT))\n",
    "\n",
    "        if not ret:\n",
    "            print(f\"Error: Could not read frame {frame_count}.\")\n",
    "            break\n",
    "\n",
    "        # Save the frame as an image in the output folder\n",
    "        frame_filename = os.path.join(r\"D:\\Dataset\\buffer\", f\"{i:02d}.png\")\n",
    "        if width != 1280 and height != 720:\n",
    "            frame = cv2.resize(frame, (1280, 720), interpolation=cv2.INTER_AREA)\n",
    "\n",
    "        frames_info.append((frame_count, frame.copy(), frame_filename, output_folder))  # Use copy to avoid shared memory issues\n",
    "\n",
    "        frame_count += 1\n",
    "        i += 1\n",
    "\n",
    "    # Release the video capture object\n",
    "    cap.release()\n",
    "\n",
    "    # Use ThreadPoolExecutor for parallel processing\n",
    "    with concurrent.futures.ThreadPoolExecutor() as executor:\n",
    "        executor.map(save_frame, frames_info)\n",
    "\n",
    "    return\n",
    "\n",
    "\n"
   ]
  },
  {
   "cell_type": "code",
   "execution_count": null,
   "metadata": {},
   "outputs": [],
   "source": [
    "def chk_annotation(vdi:str)->list[int]:\n",
    "    annt=[a for a in df[vdi]]\n",
    "    #print(annt)\n",
    "    stym=[]\n",
    "    etym=[]\n",
    "    \n",
    "    for k,val in enumerate(annt):\n",
    "        try:\n",
    "         stym.append(tstr2ms(val.split(\",\")[0])) \n",
    "         etym.append(tstr2ms(val.split(\",\")[1]))\n",
    "         #stym.append(val.split(\",\")[0]) #uncomment for movie pie\n",
    "         #etym.append(val.split(\",\")[1])\n",
    "         if tstr2ms(val.split(\",\")[0])>tstr2ms(val.split(\",\")[1]):\n",
    "            print(f\"error:STRT-TIME > END-TIME in index {k+1}\")\n",
    "         if abs(tstr2ms(val.split(\",\")[0])-tstr2ms(val.split(\",\")[1]))<200:\n",
    "            print(f\"error:less than 200ms for word in index {k+1}\")\n",
    "         if abs(tstr2ms(val.split(\",\")[0])-tstr2ms(val.split(\",\")[1]))>3000:\n",
    "            print(f\"error:more than 3 sec for word in index {k+1}\")\n",
    "        \n",
    "        except:\n",
    "           print(f\"error:format doesn't match in index {k+1}\")   \n",
    "      \n",
    "    return stym,etym\n",
    "    \n"
   ]
  },
  {
   "cell_type": "markdown",
   "metadata": {},
   "source": [
    "STEP1: Find XL location and read the XL\n",
    "\n",
    "STEP2: Find Annotated vdos from the XL\n",
    "\n",
    "\n",
    "STEP3: Check the annotations\n",
    "\n",
    "\n",
    "STEP4: Make input and output folders\n",
    "\n",
    "\n",
    "RUN THE BOX\n",
    "\n"
   ]
  },
  {
   "cell_type": "code",
   "execution_count": null,
   "metadata": {},
   "outputs": [],
   "source": [
    "import pandas as pd\n",
    "import os\n",
    "import cv2\n",
    "import matplotlib.pyplot as plt\n",
    "import shutil\n",
    "import concurrent.futures\n",
    "import time"
   ]
  },
  {
   "cell_type": "code",
   "execution_count": null,
   "metadata": {},
   "outputs": [],
   "source": [
    "i=0 #total number of folder inside demo to iterate put value of i accordingly\n",
    "base_loc='.\\demo' # location (parent folder) of vdos and xls\n",
    "\n",
    "xl_path=find_xl(parent()[i])\n",
    "df=pd.read_excel(xl_path)\n",
    "\n",
    "read_xl_vids(find_xl(parent()[i]))\n",
    "print(f\"this is {parent()[i]} and the xl is {find_xl(parent()[i])} annotated vids are {read_xl_vids(find_xl(parent()[i]))}\")\n"
   ]
  },
  {
   "cell_type": "code",
   "execution_count": null,
   "metadata": {},
   "outputs": [],
   "source": [
    "vid_name=\"vid_7.mp4\" "
   ]
  },
  {
   "cell_type": "code",
   "execution_count": null,
   "metadata": {},
   "outputs": [],
   "source": [
    "df=pd.read_excel(xl_path)\n",
    "chk_annotation(vid_name)"
   ]
  },
  {
   "cell_type": "code",
   "execution_count": null,
   "metadata": {},
   "outputs": [],
   "source": [
    "\n",
    "stym,etym=chk_annotation(vid_name)\n",
    "print(stym)\n",
    "print(etym)\n"
   ]
  },
  {
   "cell_type": "code",
   "execution_count": null,
   "metadata": {},
   "outputs": [],
   "source": [
    "\n",
    "video_path=os.path.join(parent()[i],vid_name)  #videos from base location\n",
    "print(video_path)\n",
    "\n",
    "output_path=r'.\\Dataset'\n"
   ]
  },
  {
   "cell_type": "code",
   "execution_count": null,
   "metadata": {},
   "outputs": [],
   "source": [
    "######################## Change it with videos\n",
    "speaker_folder='s1' "
   ]
  },
  {
   "cell_type": "code",
   "execution_count": null,
   "metadata": {},
   "outputs": [],
   "source": [
    "\n",
    "for i,word in enumerate(df['words']):\n",
    "    output_folder=os.path.join(output_path,speaker_folder,word)\n",
    "    start_time=stym[i]\n",
    "    end_time=etym[i]\n",
    "    if not start_time==end_time:\n",
    "       save_frames(video_path, output_folder, start_time, end_time)\n",
    "    \n",
    "\n",
    "\n",
    "        \n",
    "    \n",
    "\n"
   ]
  }
 ],
 "metadata": {
  "kernelspec": {
   "display_name": "Python 3",
   "language": "python",
   "name": "python3"
  },
  "language_info": {
   "codemirror_mode": {
    "name": "ipython",
    "version": 3
   },
   "file_extension": ".py",
   "mimetype": "text/x-python",
   "name": "python",
   "nbconvert_exporter": "python",
   "pygments_lexer": "ipython3",
   "version": "3.11.2"
  }
 },
 "nbformat": 4,
 "nbformat_minor": 2
}
